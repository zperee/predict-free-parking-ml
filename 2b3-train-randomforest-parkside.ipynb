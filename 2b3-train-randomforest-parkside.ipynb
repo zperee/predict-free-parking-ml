{
 "cells": [
  {
   "cell_type": "markdown",
   "metadata": {},
   "source": [
    "# Random Forest Parkside\n",
    "In der Analyse der Daten wurde erkannt, dass das Parkhaus Parkside sehr regelmässige Daten hat. Deshalb wurde entschieden ein möglichst gutes Model nur für dieses Parkhaus zu trainieren."
   ]
  },
  {
   "cell_type": "code",
   "execution_count": 18,
   "metadata": {},
   "outputs": [],
   "source": [
    "# Pandas Numby wird importiert\n",
    "import pandas as pd\n",
    "import numpy as np\n",
    "import matplotlib.pyplot as plt\n",
    "\n",
    "from sklearn.model_selection import GroupKFold\n",
    "\n",
    "# Random Forest wird importiert\n",
    "from sklearn.ensemble import RandomForestRegressor\n",
    "\n",
    "import joblib"
   ]
  },
  {
   "cell_type": "markdown",
   "metadata": {},
   "source": [
    "Anhand des unteren Plots sieht man gut das die Vermutung aus dem Notebook 2a sich bestätigen. Die Parkhäuser haben eine Wellenmässige regelmässigkeit."
   ]
  },
  {
   "cell_type": "code",
   "execution_count": 19,
   "metadata": {},
   "outputs": [],
   "source": [
    "df = pd.read_pickle(\"./data.pkl\")\n",
    "df = df[df['parking_id'] == 'parkside']"
   ]
  },
  {
   "cell_type": "code",
   "execution_count": 20,
   "metadata": {},
   "outputs": [],
   "source": [
    "# (Information 1) bessere Resultate durch entfernen von unrgelmässigen monaten dezember und janaur\n",
    "#df = df[df['month'] != 12]\n",
    "#df = df[df['month'] != 1]\n",
    "#df['month'].unique()"
   ]
  },
  {
   "cell_type": "code",
   "execution_count": 21,
   "metadata": {},
   "outputs": [],
   "source": [
    "forest = RandomForestRegressor(n_estimators=9)\n",
    "\n",
    "def data_kfold_train(data, n_splits = 10):\n",
    "    X = data[['day_of_week', 'is_weekend', 'hour']]\n",
    "    y = data['free_parking_0']\n",
    "    groups = data['month']\n",
    "    group_kfold = GroupKFold(n_splits=n_splits)\n",
    "\n",
    "    scores = []\n",
    "    best_model = (0,)\n",
    "    for train_index, test_index in group_kfold.split(X, y, groups):\n",
    "        X_train, X_test = X.iloc[train_index], X.iloc[test_index]\n",
    "        y_train, y_test = y.iloc[train_index], y.iloc[test_index]\n",
    "        \n",
    "        forest = RandomForestRegressor(n_estimators=9)\n",
    "        forest.fit(X_train, y_train)\n",
    "        score = forest.score(X_test, y_test)\n",
    "        \n",
    "        # Ausgabe\n",
    "        test_month = df.iloc[test_index].month.unique()\n",
    "        train_month = df.iloc[train_index].month.unique()\n",
    "        \n",
    "        #print(score)\n",
    "        first_tree = forest.estimators_[0]\n",
    "        feat_imp = pd.Series(forest.feature_importances_, index=X.columns)\n",
    "        #print(feat_imp.sort_values(ascending=False))\n",
    "        scores.append(score)\n",
    "        \n",
    "        if score > best_model[0]:\n",
    "            best_model = (score, feat_imp, forest, test_month, train_month)\n",
    "    return (scores, best_model)"
   ]
  },
  {
   "cell_type": "code",
   "execution_count": 22,
   "metadata": {},
   "outputs": [
    {
     "data": {
      "image/png": "[encoded data removed]",
      "text/plain": [
       "<Figure size 432x288 with 1 Axes>"
      ]
     },
     "metadata": {
      "needs_background": "light"
     },
     "output_type": "display_data"
    },
    {
     "name": "stdout",
     "output_type": "stream",
     "text": [
      "Best Score 0.9347770395692779\n",
      "Test Month: [11]\n",
      "Train Month: [ 4  3 12 10  9  7  1  8  2]\n",
      "\n",
      "Feature Importance best Model\n",
      "hour           0.674145\n",
      "is_weekend     0.200782\n",
      "day_of_week    0.125073\n",
      "dtype: float64\n"
     ]
    }
   ],
   "source": [
    "scores, best_model = data_kfold_train(df, df['month'].unique().size)\n",
    "best_score, feat_imp, forest, test_month, train_month = best_model\n",
    "\n",
    "plt.plot(scores)\n",
    "plt.show()\n",
    "print(\"Best Score \" + str(best_score))\n",
    "print(\"Test Month: \" + str(test_month))\n",
    "print(\"Train Month: \" + str(train_month))\n",
    "print(\"\")\n",
    "print(\"Feature Importance best Model\")\n",
    "print(feat_imp.sort_values(ascending=False))"
   ]
  },
  {
   "cell_type": "code",
   "execution_count": 23,
   "metadata": {},
   "outputs": [
    {
     "data": {
      "text/plain": [
       "['RF_parkside.joblib']"
      ]
     },
     "execution_count": 23,
     "metadata": {},
     "output_type": "execute_result"
    }
   ],
   "source": [
    "# Export \n",
    "joblib.dump(forest, \"RF_parkside.joblib\", compress=0)"
   ]
  },
  {
   "cell_type": "markdown",
   "metadata": {},
   "source": [
    "# Resultat\n",
    "Die tiefen Werte aus stündlichen Vorhersagequalität (hour [0.67]) sind durch die Unregelmässigkeiten im Januar und Dezember zu erklären (ist in der Analyse 1b ersichtlich). Durch das Entfernen dieser Monate konnte sehr gute Vorhersagequalitäten (hour [0.75]) erreicht werden (siehe Information 1, freischalten der Kommentierten 3 Zeilen df = df[df['month'] != 12]\n",
    "df = df[df['month'] != 1]\n",
    "df['month'].unique()).\n",
    "\n",
    "Die Daten werden zwecks späterer Wiederverwendung für Hervorsagen, in eigenen Files zwischengespeichert."
   ]
  }
 ],
 "metadata": {
  "kernelspec": {
   "display_name": "Python 3",
   "language": "python",
   "name": "python3"
  },
  "language_info": {
   "codemirror_mode": {
    "name": "ipython",
    "version": 3
   },
   "file_extension": ".py",
   "mimetype": "text/x-python",
   "name": "python",
   "nbconvert_exporter": "python",
   "pygments_lexer": "ipython3",
   "version": "3.8.5"
  }
 },
 "nbformat": 4,
 "nbformat_minor": 4
}

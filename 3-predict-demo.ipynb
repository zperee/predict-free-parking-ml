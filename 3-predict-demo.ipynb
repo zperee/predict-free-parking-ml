{
 "cells": [
  {
   "cell_type": "markdown",
   "metadata": {},
   "source": [
    "# Demo\n",
    "Dieses Notebook ist um die aktuellen Werte mit den vorhergesagten Werten zu vergleichen. Dazu wird das Modell geladen und gefragt wieviele Parkplätze für Opera und Parkside frei sind. Danach wird auf der offiziellen PLS Webseite der Wert geladen und beide ausgegeben."
   ]
  },
  {
   "cell_type": "code",
   "execution_count": 1,
   "metadata": {},
   "outputs": [],
   "source": [
    "import joblib\n",
    "import numpy as np\n",
    "import pandas as pd\n",
    "from datetime import datetime"
   ]
  },
  {
   "cell_type": "code",
   "execution_count": 2,
   "metadata": {},
   "outputs": [],
   "source": [
    "def predict(rf):\n",
    "    now = datetime.now(tz=None)\n",
    "    weekday = now.weekday()\n",
    "    is_weekend = int(now.weekday() == 5 or now.weekday() == 6)\n",
    "    hour = now.hour\n",
    "    return rf.predict([[weekday, is_weekend, hour]])[0]"
   ]
  },
  {
   "cell_type": "code",
   "execution_count": 3,
   "metadata": {},
   "outputs": [],
   "source": [
    "from bs4 import BeautifulSoup\n",
    "import urllib.request\n",
    "\n",
    "def get_current(parkingid):\n",
    "    fp = urllib.request.urlopen(\"https://www.pls-zh.ch/parkhaus/\" + parkingid + \".jsp?pid=\" + parkingid)\n",
    "    mybytes = fp.read()\n",
    "    html = mybytes.decode(\"latin-1\")\n",
    "    fp.close()\n",
    "    soup = BeautifulSoup(html, 'html.parser')\n",
    "    return soup.find_all(\"td\", {\"class\": \"status_frei\"})[0].text"
   ]
  },
  {
   "cell_type": "code",
   "execution_count": 4,
   "metadata": {},
   "outputs": [],
   "source": [
    "def compare_predicted_actual(parkingid):\n",
    "    rf = joblib.load(\"./RF_\" + parkingid + \".joblib\")\n",
    "    predicted = predict(rf)\n",
    "    actual = get_current(parkingid)\n",
    "    print(\"Parkhaus: \" + parkingid)\n",
    "    print(\"Vorhergesagt: \" + str(int(round(predicted, 0))))\n",
    "    print(\"Tatsächlich: \" + actual)\n",
    "    print(\"\")"
   ]
  },
  {
   "cell_type": "code",
   "execution_count": 5,
   "metadata": {},
   "outputs": [
    {
     "name": "stdout",
     "output_type": "stream",
     "text": [
      "Parkhaus: opera\n",
      "Vorhergesagt: 234\n",
      "Tatsächlich:  230\n",
      "\n",
      "Parkhaus: parkside\n",
      "Vorhergesagt: 12\n",
      "Tatsächlich:    7\n",
      "\n"
     ]
    }
   ],
   "source": [
    "compare_predicted_actual(\"opera\")\n",
    "compare_predicted_actual(\"parkside\")"
   ]
  }
 ],
 "metadata": {
  "kernelspec": {
   "display_name": "Python 3",
   "language": "python",
   "name": "python3"
  },
  "language_info": {
   "codemirror_mode": {
    "name": "ipython",
    "version": 3
   },
   "file_extension": ".py",
   "mimetype": "text/x-python",
   "name": "python",
   "nbconvert_exporter": "python",
   "pygments_lexer": "ipython3",
   "version": "3.8.5"
  }
 },
 "nbformat": 4,
 "nbformat_minor": 4
}
